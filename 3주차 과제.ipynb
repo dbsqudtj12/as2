{
 "cells": [
  {
   "cell_type": "markdown",
   "metadata": {},
   "source": [
    "1. 구구단"
   ]
  },
  {
   "cell_type": "code",
   "execution_count": 3,
   "metadata": {},
   "outputs": [],
   "source": [
    "def gugudan(n):\n",
    "    t=0\n",
    "    print(\"%d단\" % n)\n",
    "    while (t<=8):\n",
    "        t = t+1\n",
    "        print(\"%d x %d =%d\" %(n,t,n*t))\n"
   ]
  },
  {
   "cell_type": "code",
   "execution_count": 10,
   "metadata": {},
   "outputs": [
    {
     "name": "stdout",
     "output_type": "stream",
     "text": [
      "56단\n",
      "56 x 1 =56\n",
      "56 x 2 =112\n",
      "56 x 3 =168\n",
      "56 x 4 =224\n",
      "56 x 5 =280\n",
      "56 x 6 =336\n",
      "56 x 7 =392\n",
      "56 x 8 =448\n",
      "56 x 9 =504\n"
     ]
    }
   ],
   "source": [
    "gugudan(56)"
   ]
  },
  {
   "cell_type": "markdown",
   "metadata": {},
   "source": [
    "2. 홀수 짝수"
   ]
  },
  {
   "cell_type": "code",
   "execution_count": 25,
   "metadata": {},
   "outputs": [],
   "source": [
    "def odd(n):\n",
    "    if n % 2==0:\n",
    "        print('짝수')\n",
    "    else:\n",
    "        print('홀수')"
   ]
  },
  {
   "cell_type": "code",
   "execution_count": 23,
   "metadata": {},
   "outputs": [
    {
     "name": "stdout",
     "output_type": "stream",
     "text": [
      "홀수\n"
     ]
    }
   ],
   "source": [
    "odd(5)"
   ]
  },
  {
   "cell_type": "markdown",
   "metadata": {},
   "source": [
    "3. 평균"
   ]
  },
  {
   "cell_type": "code",
   "execution_count": 9,
   "metadata": {},
   "outputs": [
    {
     "name": "stdout",
     "output_type": "stream",
     "text": [
      "26.1\n"
     ]
    }
   ],
   "source": [
    "a=[1,2,3,4,5,6,72,34,56,78]\n",
    "i=0\n",
    "s=0\n",
    "while i < len(a):\n",
    "    s += a[i]\n",
    "    i += 1\n",
    "print(s / len(a))"
   ]
  },
  {
   "cell_type": "code",
   "execution_count": null,
   "metadata": {},
   "outputs": [],
   "source": []
  }
 ],
 "metadata": {
  "kernelspec": {
   "display_name": "Python 3",
   "language": "python",
   "name": "python3"
  },
  "language_info": {
   "codemirror_mode": {
    "name": "ipython",
    "version": 3
   },
   "file_extension": ".py",
   "mimetype": "text/x-python",
   "name": "python",
   "nbconvert_exporter": "python",
   "pygments_lexer": "ipython3",
   "version": "3.7.6"
  }
 },
 "nbformat": 4,
 "nbformat_minor": 4
}
